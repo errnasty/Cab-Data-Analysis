{
 "cells": [
  {
   "cell_type": "markdown",
   "metadata": {},
   "source": [
    "# **ETL Pipeline (SQL to Python)**"
   ]
  },
  {
   "cell_type": "markdown",
   "metadata": {},
   "source": [
    "The purpose of this jupyter notebook is to load data from SQL into python."
   ]
  },
  {
   "cell_type": "code",
   "execution_count": 1,
   "metadata": {},
   "outputs": [
    {
     "name": "stdout",
     "output_type": "stream",
     "text": [
      "Requirement already satisfied: sqlalchemy in c:\\users\\liang\\anaconda3\\lib\\site-packages (1.4.39)\n",
      "Requirement already satisfied: greenlet!=0.4.17 in c:\\users\\liang\\anaconda3\\lib\\site-packages (from sqlalchemy) (2.0.1)\n",
      "Requirement already satisfied: dask in c:\\users\\liang\\anaconda3\\lib\\site-packages (2023.6.0)\n",
      "Requirement already satisfied: click>=8.0 in c:\\users\\liang\\anaconda3\\lib\\site-packages (from dask) (8.0.4)\n",
      "Requirement already satisfied: cloudpickle>=1.5.0 in c:\\users\\liang\\anaconda3\\lib\\site-packages (from dask) (2.2.1)\n",
      "Requirement already satisfied: fsspec>=2021.09.0 in c:\\users\\liang\\anaconda3\\lib\\site-packages (from dask) (2023.3.0)\n",
      "Requirement already satisfied: packaging>=20.0 in c:\\users\\liang\\anaconda3\\lib\\site-packages (from dask) (23.0)\n",
      "Requirement already satisfied: partd>=1.2.0 in c:\\users\\liang\\anaconda3\\lib\\site-packages (from dask) (1.2.0)\n",
      "Requirement already satisfied: pyyaml>=5.3.1 in c:\\users\\liang\\anaconda3\\lib\\site-packages (from dask) (6.0)\n",
      "Requirement already satisfied: toolz>=0.10.0 in c:\\users\\liang\\anaconda3\\lib\\site-packages (from dask) (0.12.0)\n",
      "Requirement already satisfied: importlib-metadata>=4.13.0 in c:\\users\\liang\\anaconda3\\lib\\site-packages (from dask) (6.0.0)\n",
      "Requirement already satisfied: colorama in c:\\users\\liang\\anaconda3\\lib\\site-packages (from click>=8.0->dask) (0.4.6)\n",
      "Requirement already satisfied: zipp>=0.5 in c:\\users\\liang\\anaconda3\\lib\\site-packages (from importlib-metadata>=4.13.0->dask) (3.11.0)\n",
      "Requirement already satisfied: locket in c:\\users\\liang\\anaconda3\\lib\\site-packages (from partd>=1.2.0->dask) (1.0.0)\n",
      "Requirement already satisfied: pyodbc in c:\\users\\liang\\anaconda3\\lib\\site-packages (4.0.34)\n"
     ]
    }
   ],
   "source": [
    "!pip install sqlalchemy\n",
    "!pip install dask\n",
    "!pip install pyodbc"
   ]
  },
  {
   "cell_type": "code",
   "execution_count": 2,
   "metadata": {},
   "outputs": [],
   "source": [
    "import os\n",
    "import pandas as pd\n",
    "import dask.dataframe as dd\n",
    "from sqlalchemy import create_engine\n",
    "\n",
    "from warnings import filterwarnings \n",
    "filterwarnings('ignore')"
   ]
  },
  {
   "cell_type": "markdown",
   "metadata": {},
   "source": [
    "## **Extraction**"
   ]
  },
  {
   "cell_type": "markdown",
   "metadata": {},
   "source": [
    "Load the data from the senor, driver and safety tables from MSSQL into a Pandas Dataframe."
   ]
  },
  {
   "cell_type": "code",
   "execution_count": 4,
   "metadata": {},
   "outputs": [
    {
     "name": "stdout",
     "output_type": "stream",
     "text": [
      "CPU times: total: 31.2 ms\n",
      "Wall time: 75 ms\n"
     ]
    }
   ],
   "source": [
    "%%time\n",
    "\n",
    "# set to your own desktop name\n",
    "PC_name = os.environ['COMPUTERNAME']\n",
    "\n",
    "# connect to database in mssql\n",
    "server = f\"{PC_name}\\SQLEXPRESS\" # SQL Server Name\n",
    "database = \"PAI_CA1\" # database name\n",
    "con_string = f'mssql+pyodbc://{server}/{database}?driver=SQL Server'\n",
    "engine = create_engine(con_string)\n",
    "\n",
    "# retrieve data from the database\n",
    "connection = engine.connect()\n",
    "\n",
    "# driver data\n",
    "driver = connection.execute('SELECT * FROM Tempdriver')\n",
    "driver_data = pd.DataFrame(data=driver.fetchall(), columns=driver.keys())\n",
    "\n",
    "# trip data\n",
    "safety = connection.execute('SELECT * FROM Tempsafety')\n",
    "safety_data = pd.DataFrame(data=safety.fetchall(), columns=safety.keys())\n",
    "\n",
    "connection.close() # close connection explicitly"
   ]
  },
  {
   "cell_type": "markdown",
   "metadata": {},
   "source": [
    "We load the driver and safety data first as compared to the sensor data, it isn't a lot."
   ]
  },
  {
   "cell_type": "code",
   "execution_count": 8,
   "metadata": {},
   "outputs": [
    {
     "name": "stdout",
     "output_type": "stream",
     "text": [
      "CPU times: total: 19.7 s\n",
      "Wall time: 1min 30s\n"
     ]
    }
   ],
   "source": [
    "%%time\n",
    "# get sensor data by chunksize\n",
    "\n",
    "connection = engine.connect().execution_options(stream_results=True)\n",
    "sensor_data_generator = pd.read_sql_query('SELECT * FROM TempSensor', con_string, chunksize=10**5)\n",
    "sensor_data = pd.concat([chunk for chunk in sensor_data_generator])"
   ]
  },
  {
   "cell_type": "markdown",
   "metadata": {},
   "source": [
    "We load the sensor data in chunksize as it's much larger compared to the driver and safety data. By using (.execution_options(stream_results=True)), we can load the data in chunks of 100,000 rows making the process mmore efficient (instead of loading it in all at once)."
   ]
  },
  {
   "cell_type": "code",
   "execution_count": 9,
   "metadata": {},
   "outputs": [
    {
     "name": "stdout",
     "output_type": "stream",
     "text": [
      "<class 'pandas.core.frame.DataFrame'>\n",
      "RangeIndex: 500 entries, 0 to 499\n",
      "Data columns (total 8 columns):\n",
      " #   Column          Non-Null Count  Dtype  \n",
      "---  ------          --------------  -----  \n",
      " 0   driver_id       500 non-null    int64  \n",
      " 1   driver_name     500 non-null    object \n",
      " 2   date_of_birth   500 non-null    object \n",
      " 3   years_of_exp    500 non-null    int64  \n",
      " 4   gender          500 non-null    object \n",
      " 5   car_brand       500 non-null    object \n",
      " 6   car_model_year  500 non-null    object \n",
      " 7   driver_rating   500 non-null    float64\n",
      "dtypes: float64(1), int64(2), object(5)\n",
      "memory usage: 31.4+ KB\n"
     ]
    }
   ],
   "source": [
    "driver_data.info()"
   ]
  },
  {
   "cell_type": "code",
   "execution_count": 10,
   "metadata": {},
   "outputs": [
    {
     "name": "stdout",
     "output_type": "stream",
     "text": [
      "<class 'pandas.core.frame.DataFrame'>\n",
      "RangeIndex: 20000 entries, 0 to 19999\n",
      "Data columns (total 3 columns):\n",
      " #   Column     Non-Null Count  Dtype \n",
      "---  ------     --------------  ----- \n",
      " 0   bookingID  20000 non-null  object\n",
      " 1   driver_id  20000 non-null  int64 \n",
      " 2   label      20000 non-null  int64 \n",
      "dtypes: int64(2), object(1)\n",
      "memory usage: 468.9+ KB\n"
     ]
    }
   ],
   "source": [
    "safety_data.info()"
   ]
  },
  {
   "cell_type": "code",
   "execution_count": 11,
   "metadata": {},
   "outputs": [
    {
     "name": "stdout",
     "output_type": "stream",
     "text": [
      "<class 'pandas.core.frame.DataFrame'>\n",
      "Int64Index: 7469656 entries, 0 to 69655\n",
      "Data columns (total 11 columns):\n",
      " #   Column          Dtype  \n",
      "---  ------          -----  \n",
      " 0   bookingID       object \n",
      " 1   Accuracy        float64\n",
      " 2   Bearing         float64\n",
      " 3   acceleration_x  float64\n",
      " 4   acceleration_y  float64\n",
      " 5   acceleration_z  float64\n",
      " 6   gyro_x          float64\n",
      " 7   gyro_y          float64\n",
      " 8   gyro_z          float64\n",
      " 9   second          float64\n",
      " 10  speed           float64\n",
      "dtypes: float64(10), object(1)\n",
      "memory usage: 683.9+ MB\n"
     ]
    }
   ],
   "source": [
    "sensor_data.info()"
   ]
  },
  {
   "cell_type": "markdown",
   "metadata": {},
   "source": [
    "## **Transform and merge the data**"
   ]
  },
  {
   "cell_type": "markdown",
   "metadata": {},
   "source": [
    "### **Remove Duplicated Rows**"
   ]
  },
  {
   "cell_type": "code",
   "execution_count": 12,
   "metadata": {},
   "outputs": [],
   "source": [
    "driver_data = driver_data.drop_duplicates()\n",
    "trip_data = safety_data.drop_duplicates()\n",
    "sensor_data = sensor_data.drop_duplicates()"
   ]
  },
  {
   "cell_type": "markdown",
   "metadata": {},
   "source": [
    "### **Merge Dataframes**"
   ]
  },
  {
   "cell_type": "code",
   "execution_count": 14,
   "metadata": {},
   "outputs": [
    {
     "name": "stdout",
     "output_type": "stream",
     "text": [
      "CPU times: total: 1.3 s\n",
      "Wall time: 2.43 s\n"
     ]
    }
   ],
   "source": [
    "%%time\n",
    "\n",
    "# merge driver and safety data\n",
    "driver_safety = safety_data.merge(driver_data, on='driver_id', how='left')\n",
    "\n",
    "# merge driver_trips and sensor data\n",
    "driver_safety_sensor = sensor_data.merge(driver_safety, on='bookingID', how='left')"
   ]
  },
  {
   "cell_type": "code",
   "execution_count": 15,
   "metadata": {},
   "outputs": [
    {
     "data": {
      "text/html": [
       "<div>\n",
       "<style scoped>\n",
       "    .dataframe tbody tr th:only-of-type {\n",
       "        vertical-align: middle;\n",
       "    }\n",
       "\n",
       "    .dataframe tbody tr th {\n",
       "        vertical-align: top;\n",
       "    }\n",
       "\n",
       "    .dataframe thead th {\n",
       "        text-align: right;\n",
       "    }\n",
       "</style>\n",
       "<table border=\"1\" class=\"dataframe\">\n",
       "  <thead>\n",
       "    <tr style=\"text-align: right;\">\n",
       "      <th></th>\n",
       "      <th>bookingID</th>\n",
       "      <th>Accuracy</th>\n",
       "      <th>Bearing</th>\n",
       "      <th>acceleration_x</th>\n",
       "      <th>acceleration_y</th>\n",
       "      <th>acceleration_z</th>\n",
       "      <th>gyro_x</th>\n",
       "      <th>gyro_y</th>\n",
       "      <th>gyro_z</th>\n",
       "      <th>second</th>\n",
       "      <th>speed</th>\n",
       "      <th>driver_id</th>\n",
       "      <th>label</th>\n",
       "      <th>driver_name</th>\n",
       "      <th>date_of_birth</th>\n",
       "      <th>years_of_exp</th>\n",
       "      <th>gender</th>\n",
       "      <th>car_brand</th>\n",
       "      <th>car_model_year</th>\n",
       "      <th>driver_rating</th>\n",
       "    </tr>\n",
       "  </thead>\n",
       "  <tbody>\n",
       "    <tr>\n",
       "      <th>0</th>\n",
       "      <td>206158430281</td>\n",
       "      <td>8.53</td>\n",
       "      <td>0.00</td>\n",
       "      <td>0.154</td>\n",
       "      <td>10.080</td>\n",
       "      <td>-1.207</td>\n",
       "      <td>0.0616</td>\n",
       "      <td>-0.0387</td>\n",
       "      <td>-0.0972</td>\n",
       "      <td>649.0</td>\n",
       "      <td>0.00</td>\n",
       "      <td>84</td>\n",
       "      <td>0</td>\n",
       "      <td>Juliane Brimm</td>\n",
       "      <td>1980-07-23</td>\n",
       "      <td>15</td>\n",
       "      <td>Female</td>\n",
       "      <td>BMW</td>\n",
       "      <td>2008</td>\n",
       "      <td>3.1</td>\n",
       "    </tr>\n",
       "    <tr>\n",
       "      <th>1</th>\n",
       "      <td>558345748569</td>\n",
       "      <td>3.90</td>\n",
       "      <td>16.00</td>\n",
       "      <td>1.820</td>\n",
       "      <td>9.886</td>\n",
       "      <td>-0.630</td>\n",
       "      <td>-0.0803</td>\n",
       "      <td>-0.0817</td>\n",
       "      <td>0.0548</td>\n",
       "      <td>810.0</td>\n",
       "      <td>6.32</td>\n",
       "      <td>129</td>\n",
       "      <td>0</td>\n",
       "      <td>Blakeley Skerratt</td>\n",
       "      <td>1972-10-17</td>\n",
       "      <td>5</td>\n",
       "      <td>Female</td>\n",
       "      <td>Audi</td>\n",
       "      <td>1993</td>\n",
       "      <td>4.6</td>\n",
       "    </tr>\n",
       "    <tr>\n",
       "      <th>2</th>\n",
       "      <td>541165879336</td>\n",
       "      <td>3.90</td>\n",
       "      <td>135.00</td>\n",
       "      <td>0.742</td>\n",
       "      <td>9.370</td>\n",
       "      <td>3.033</td>\n",
       "      <td>0.0015</td>\n",
       "      <td>0.0655</td>\n",
       "      <td>0.0209</td>\n",
       "      <td>207.0</td>\n",
       "      <td>7.11</td>\n",
       "      <td>455</td>\n",
       "      <td>0</td>\n",
       "      <td>Rafael Oxenbury</td>\n",
       "      <td>1974-09-03</td>\n",
       "      <td>19</td>\n",
       "      <td>Male</td>\n",
       "      <td>Lexus</td>\n",
       "      <td>2006</td>\n",
       "      <td>4.3</td>\n",
       "    </tr>\n",
       "    <tr>\n",
       "      <th>3</th>\n",
       "      <td>1486058684421</td>\n",
       "      <td>52.00</td>\n",
       "      <td>107.83</td>\n",
       "      <td>-2.166</td>\n",
       "      <td>-7.768</td>\n",
       "      <td>2.488</td>\n",
       "      <td>-0.1458</td>\n",
       "      <td>NaN</td>\n",
       "      <td>0.0055</td>\n",
       "      <td>804.0</td>\n",
       "      <td>17.23</td>\n",
       "      <td>478</td>\n",
       "      <td>0</td>\n",
       "      <td>Nellie Tomasino</td>\n",
       "      <td>1973-01-04</td>\n",
       "      <td>20</td>\n",
       "      <td>Female</td>\n",
       "      <td>Toyota</td>\n",
       "      <td>2012</td>\n",
       "      <td>4.2</td>\n",
       "    </tr>\n",
       "    <tr>\n",
       "      <th>4</th>\n",
       "      <td>627065225376</td>\n",
       "      <td>3.13</td>\n",
       "      <td>88.00</td>\n",
       "      <td>0.898</td>\n",
       "      <td>9.390</td>\n",
       "      <td>1.959</td>\n",
       "      <td>0.0164</td>\n",
       "      <td>0.1021</td>\n",
       "      <td>0.0158</td>\n",
       "      <td>321.0</td>\n",
       "      <td>1.86</td>\n",
       "      <td>213</td>\n",
       "      <td>0</td>\n",
       "      <td>Camille Muldownie</td>\n",
       "      <td>1974-12-26</td>\n",
       "      <td>17</td>\n",
       "      <td>Female</td>\n",
       "      <td>Hyundai</td>\n",
       "      <td>2009</td>\n",
       "      <td>4.4</td>\n",
       "    </tr>\n",
       "  </tbody>\n",
       "</table>\n",
       "</div>"
      ],
      "text/plain": [
       "       bookingID  Accuracy  Bearing  acceleration_x  acceleration_y  \\\n",
       "0   206158430281      8.53     0.00           0.154          10.080   \n",
       "1   558345748569      3.90    16.00           1.820           9.886   \n",
       "2   541165879336      3.90   135.00           0.742           9.370   \n",
       "3  1486058684421     52.00   107.83          -2.166          -7.768   \n",
       "4   627065225376      3.13    88.00           0.898           9.390   \n",
       "\n",
       "   acceleration_z  gyro_x  gyro_y  gyro_z  second  speed  driver_id  label  \\\n",
       "0          -1.207  0.0616 -0.0387 -0.0972   649.0   0.00         84      0   \n",
       "1          -0.630 -0.0803 -0.0817  0.0548   810.0   6.32        129      0   \n",
       "2           3.033  0.0015  0.0655  0.0209   207.0   7.11        455      0   \n",
       "3           2.488 -0.1458     NaN  0.0055   804.0  17.23        478      0   \n",
       "4           1.959  0.0164  0.1021  0.0158   321.0   1.86        213      0   \n",
       "\n",
       "         driver_name date_of_birth  years_of_exp  gender car_brand  \\\n",
       "0      Juliane Brimm    1980-07-23            15  Female       BMW   \n",
       "1  Blakeley Skerratt    1972-10-17             5  Female      Audi   \n",
       "2    Rafael Oxenbury    1974-09-03            19    Male     Lexus   \n",
       "3    Nellie Tomasino    1973-01-04            20  Female    Toyota   \n",
       "4  Camille Muldownie    1974-12-26            17  Female   Hyundai   \n",
       "\n",
       "  car_model_year  driver_rating  \n",
       "0           2008            3.1  \n",
       "1           1993            4.6  \n",
       "2           2006            4.3  \n",
       "3           2012            4.2  \n",
       "4           2009            4.4  "
      ]
     },
     "execution_count": 15,
     "metadata": {},
     "output_type": "execute_result"
    }
   ],
   "source": [
    "driver_safety_sensor.head()\n"
   ]
  },
  {
   "cell_type": "code",
   "execution_count": 17,
   "metadata": {},
   "outputs": [
    {
     "name": "stdout",
     "output_type": "stream",
     "text": [
      "<class 'pandas.core.frame.DataFrame'>\n",
      "Int64Index: 7469655 entries, 0 to 7469654\n",
      "Data columns (total 20 columns):\n",
      " #   Column          Non-Null Count    Dtype  \n",
      "---  ------          --------------    -----  \n",
      " 0   bookingID       7469655 non-null  object \n",
      " 1   Accuracy        7326243 non-null  float64\n",
      " 2   Bearing         7277836 non-null  float64\n",
      " 3   acceleration_x  7271855 non-null  float64\n",
      " 4   acceleration_y  7255719 non-null  float64\n",
      " 5   acceleration_z  7388976 non-null  float64\n",
      " 6   gyro_x          7310107 non-null  float64\n",
      " 7   gyro_y          7330416 non-null  float64\n",
      " 8   gyro_z          7299953 non-null  float64\n",
      " 9   second          7346552 non-null  float64\n",
      " 10  speed           7356706 non-null  float64\n",
      " 11  driver_id       7469655 non-null  int64  \n",
      " 12  label           7469655 non-null  int64  \n",
      " 13  driver_name     7469655 non-null  object \n",
      " 14  date_of_birth   7469655 non-null  object \n",
      " 15  years_of_exp    7469655 non-null  int64  \n",
      " 16  gender          7469655 non-null  object \n",
      " 17  car_brand       7469655 non-null  object \n",
      " 18  car_model_year  7469655 non-null  object \n",
      " 19  driver_rating   7469655 non-null  float64\n",
      "dtypes: float64(11), int64(3), object(6)\n",
      "memory usage: 1.2+ GB\n"
     ]
    }
   ],
   "source": [
    "driver_safety_sensor.info(show_counts=True)\n"
   ]
  },
  {
   "cell_type": "markdown",
   "metadata": {},
   "source": [
    "## **Exporting the Final Dataframe**"
   ]
  },
  {
   "cell_type": "code",
   "execution_count": 19,
   "metadata": {},
   "outputs": [
    {
     "name": "stdout",
     "output_type": "stream",
     "text": [
      "<class 'pandas.core.frame.DataFrame'>\n",
      "Int64Index: 7469655 entries, 0 to 7469654\n",
      "Data columns (total 20 columns):\n",
      " #   Column          Non-Null Count    Dtype  \n",
      "---  ------          --------------    -----  \n",
      " 0   bookingID       7469655 non-null  object \n",
      " 1   Accuracy        7326243 non-null  float64\n",
      " 2   Bearing         7277836 non-null  float64\n",
      " 3   acceleration_x  7271855 non-null  float64\n",
      " 4   acceleration_y  7255719 non-null  float64\n",
      " 5   acceleration_z  7388976 non-null  float64\n",
      " 6   gyro_x          7310107 non-null  float64\n",
      " 7   gyro_y          7330416 non-null  float64\n",
      " 8   gyro_z          7299953 non-null  float64\n",
      " 9   second          7346552 non-null  float64\n",
      " 10  speed           7356706 non-null  float64\n",
      " 11  driver_id       7469655 non-null  int64  \n",
      " 12  label           7469655 non-null  int64  \n",
      " 13  driver_name     7469655 non-null  object \n",
      " 14  date_of_birth   7469655 non-null  object \n",
      " 15  years_of_exp    7469655 non-null  int64  \n",
      " 16  gender          7469655 non-null  object \n",
      " 17  car_brand       7469655 non-null  object \n",
      " 18  car_model_year  7469655 non-null  object \n",
      " 19  driver_rating   7469655 non-null  float64\n",
      "dtypes: float64(11), int64(3), object(6)\n",
      "memory usage: 1.2+ GB\n"
     ]
    }
   ],
   "source": [
    "taxi_data = driver_safety_sensor[['bookingID', 'Accuracy', 'Bearing', 'acceleration_x',\n",
    "                                  'acceleration_y', 'acceleration_z', 'gyro_x', 'gyro_y',\n",
    "                                  'gyro_z', 'second', 'speed', 'driver_id',\n",
    "                                  'label', 'driver_name', 'date_of_birth', 'years_of_exp', 'gender', 'car_brand',\n",
    "                                  'car_model_year', 'driver_rating']]\n",
    "taxi_data.info(show_counts=True)"
   ]
  },
  {
   "cell_type": "code",
   "execution_count": 22,
   "metadata": {},
   "outputs": [
    {
     "name": "stdout",
     "output_type": "stream",
     "text": [
      "CPU times: total: 16.1 s\n",
      "Wall time: 46.9 s\n"
     ]
    }
   ],
   "source": [
    "%%time\n",
    "# if directory does not exist, create it\n",
    "if not os.path.exists('../Datasets/cleaned/'):\n",
    "    os.makedirs('../Datasets/cleaned/')\n",
    "\n",
    "# save data to csv\n",
    "taxi_data.to_csv('../Datasets/cleaned/taxi_data.csv', index=False)"
   ]
  }
 ],
 "metadata": {
  "kernelspec": {
   "display_name": "base",
   "language": "python",
   "name": "python3"
  },
  "language_info": {
   "codemirror_mode": {
    "name": "ipython",
    "version": 3
   },
   "file_extension": ".py",
   "mimetype": "text/x-python",
   "name": "python",
   "nbconvert_exporter": "python",
   "pygments_lexer": "ipython3",
   "version": "3.11.3"
  }
 },
 "nbformat": 4,
 "nbformat_minor": 2
}
